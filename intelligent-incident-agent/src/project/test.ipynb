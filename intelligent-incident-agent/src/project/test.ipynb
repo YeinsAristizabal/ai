{
 "cells": [
  {
   "cell_type": "code",
   "execution_count": 9,
   "id": "1c82dfbb",
   "metadata": {},
   "outputs": [
    {
     "data": {
      "text/plain": [
       "'Negative'"
      ]
     },
     "execution_count": 9,
     "metadata": {},
     "output_type": "execute_result"
    }
   ],
   "source": [
    "import json\n",
    "\n",
    "detect_area_path = \"..\\\\project\\\\output\\\\detect_area.json\"\n",
    "detect_category_path = \"..\\\\project\\\\output\\\\detect_category.json\"\n",
    "sentiment_analysis_path = \"..\\\\project\\\\output\\\\sentiment_analysis.json\"\n",
    "\n",
    "with open(detect_area_path, \"r\", encoding=\"utf-8\") as a:\n",
    "    detect_area_output = json.load(a)\n",
    "\n",
    "with open(detect_category_path, \"r\", encoding=\"utf-8\") as c:\n",
    "    detect_category_output = json.load(c)\n",
    "\n",
    "with open(sentiment_analysis_path, \"r\", encoding=\"utf-8\") as s:\n",
    "    sentiment_analysis_output = json.load(s)\n",
    "\n",
    "sentiment_analysis_output[\"sentiment\"]"
   ]
  },
  {
   "cell_type": "code",
   "execution_count": 13,
   "id": "29475457",
   "metadata": {},
   "outputs": [
    {
     "data": {
      "text/html": [
       "<div>\n",
       "<style scoped>\n",
       "    .dataframe tbody tr th:only-of-type {\n",
       "        vertical-align: middle;\n",
       "    }\n",
       "\n",
       "    .dataframe tbody tr th {\n",
       "        vertical-align: top;\n",
       "    }\n",
       "\n",
       "    .dataframe thead th {\n",
       "        text-align: right;\n",
       "    }\n",
       "</style>\n",
       "<table border=\"1\" class=\"dataframe\">\n",
       "  <thead>\n",
       "    <tr style=\"text-align: right;\">\n",
       "      <th></th>\n",
       "      <th>pqr_text</th>\n",
       "      <th>category</th>\n",
       "      <th>area</th>\n",
       "      <th>sentiment</th>\n",
       "      <th>date</th>\n",
       "    </tr>\n",
       "  </thead>\n",
       "  <tbody>\n",
       "    <tr>\n",
       "      <th>0</th>\n",
       "      <td>The software keeps crashing every time I try t...</td>\n",
       "      <td>Technical support</td>\n",
       "      <td>IT</td>\n",
       "      <td>Negative</td>\n",
       "      <td>2025-07-01</td>\n",
       "    </tr>\n",
       "    <tr>\n",
       "      <th>1</th>\n",
       "      <td>I was overcharged this month on my invoice, pl...</td>\n",
       "      <td>Billing/payments</td>\n",
       "      <td>Accounting</td>\n",
       "      <td>Negative</td>\n",
       "      <td>2025-07-05</td>\n",
       "    </tr>\n",
       "    <tr>\n",
       "      <th>2</th>\n",
       "      <td>The production line response time has improved...</td>\n",
       "      <td>Product/service issue</td>\n",
       "      <td>Production</td>\n",
       "      <td>Positive</td>\n",
       "      <td>2025-07-10</td>\n",
       "    </tr>\n",
       "    <tr>\n",
       "      <th>3</th>\n",
       "      <td>The customer service agent was very helpful an...</td>\n",
       "      <td>Customer service</td>\n",
       "      <td>Customer Service</td>\n",
       "      <td>Positive</td>\n",
       "      <td>2025-07-12</td>\n",
       "    </tr>\n",
       "    <tr>\n",
       "      <th>4</th>\n",
       "      <td>I feel unsafe entering the parking lot at nigh...</td>\n",
       "      <td>Safety/security</td>\n",
       "      <td>Safety/security</td>\n",
       "      <td>Negative</td>\n",
       "      <td>2025-07-15</td>\n",
       "    </tr>\n",
       "    <tr>\n",
       "      <th>5</th>\n",
       "      <td>The product delivered works fine but the instr...</td>\n",
       "      <td>Product/service issue</td>\n",
       "      <td>Production</td>\n",
       "      <td>Neutral</td>\n",
       "      <td>2025-07-18</td>\n",
       "    </tr>\n",
       "  </tbody>\n",
       "</table>\n",
       "</div>"
      ],
      "text/plain": [
       "                                            pqr_text               category  \\\n",
       "0  The software keeps crashing every time I try t...      Technical support   \n",
       "1  I was overcharged this month on my invoice, pl...       Billing/payments   \n",
       "2  The production line response time has improved...  Product/service issue   \n",
       "3  The customer service agent was very helpful an...       Customer service   \n",
       "4  I feel unsafe entering the parking lot at nigh...        Safety/security   \n",
       "5  The product delivered works fine but the instr...  Product/service issue   \n",
       "\n",
       "               area sentiment       date  \n",
       "0                IT  Negative 2025-07-01  \n",
       "1        Accounting  Negative 2025-07-05  \n",
       "2        Production  Positive 2025-07-10  \n",
       "3  Customer Service  Positive 2025-07-12  \n",
       "4   Safety/security  Negative 2025-07-15  \n",
       "5        Production   Neutral 2025-07-18  "
      ]
     },
     "execution_count": 13,
     "metadata": {},
     "output_type": "execute_result"
    }
   ],
   "source": [
    "import pandas as pd\n",
    "\n",
    "df = pd.read_excel(\"..\\\\..\\\\data\\\\incidents.xlsx\")\n",
    "df"
   ]
  },
  {
   "cell_type": "code",
   "execution_count": 17,
   "id": "ef63d98f",
   "metadata": {},
   "outputs": [
    {
     "data": {
      "text/plain": [
       "3"
      ]
     },
     "execution_count": 17,
     "metadata": {},
     "output_type": "execute_result"
    }
   ],
   "source": [
    "negatives = len(df[df[\"sentiment\"]==\"Negative\"])\n",
    "negatives"
   ]
  }
 ],
 "metadata": {
  "kernelspec": {
   "display_name": ".venv",
   "language": "python",
   "name": "python3"
  },
  "language_info": {
   "codemirror_mode": {
    "name": "ipython",
    "version": 3
   },
   "file_extension": ".py",
   "mimetype": "text/x-python",
   "name": "python",
   "nbconvert_exporter": "python",
   "pygments_lexer": "ipython3",
   "version": "3.10.0"
  }
 },
 "nbformat": 4,
 "nbformat_minor": 5
}
