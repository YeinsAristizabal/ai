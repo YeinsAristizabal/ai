{
 "cells": [
  {
   "cell_type": "code",
   "execution_count": null,
   "id": "bb6ed4b8",
   "metadata": {},
   "outputs": [],
   "source": [
    "from langdetect import detect, DetectorFactory\n",
    "from langchain.chains import ConversationalRetrievalChain\n",
    "from langchain.memory import ConversationSummaryMemory\n",
    "from langchain.prompts import PromptTemplate\n",
    "from PyPDF2 import PdfReader\n",
    "\n",
    "from langchain_community.llms import Ollama\n",
    "from langchain.vectorstores import FAISS\n",
    "from langchain.embeddings import HuggingFaceEmbeddings\n",
    "from langchain.text_splitter import RecursiveCharacterTextSplitter\n",
    "from langchain.document_loaders import PyPDFLoader"
   ]
  },
  {
   "cell_type": "code",
   "execution_count": 3,
   "id": "2bebcf54",
   "metadata": {},
   "outputs": [],
   "source": [
    "# Step 1: Load & extract text\n",
    "pdf_path = \"..\\\\data\\\\Yeins_Yefferson_Aristizabal_López_CV - English.pdf\"\n",
    "reader = PdfReader(pdf_path)\n",
    "raw_text = \"\\n\".join(page.extract_text() for page in reader.pages if page.extract_text())"
   ]
  },
  {
   "cell_type": "code",
   "execution_count": 4,
   "id": "78dd12e8",
   "metadata": {},
   "outputs": [],
   "source": [
    "try:\n",
    "    detected_lang = detect(raw_text[:1000])\n",
    "except:\n",
    "    detected_lang = \"unknown\"\n",
    "language = detected_lang"
   ]
  },
  {
   "cell_type": "code",
   "execution_count": 6,
   "id": "cc081289",
   "metadata": {},
   "outputs": [],
   "source": [
    "OLLAMA_MODEL = \"gemma:2b\"\n",
    "CHUNK_SIZE = 1000\n",
    "CHUNK_OVERLAP = 100\n",
    "NUM_TOP_DOCS = 3\n",
    "\n",
    "# Load local LLM\n",
    "def load_llm():\n",
    "    return Ollama(model=OLLAMA_MODEL, temperature=0.1)\n",
    "\n",
    "# Load PDF, split and embed\n",
    "def process_pdf(path):\n",
    "    loader = PyPDFLoader(path)\n",
    "    pages = loader.load()\n",
    "    splitter = RecursiveCharacterTextSplitter(chunk_size=CHUNK_SIZE, chunk_overlap=CHUNK_OVERLAP)\n",
    "    docs = splitter.split_documents(pages)\n",
    "\n",
    "    embeddings = HuggingFaceEmbeddings(model_name=\"sentence-transformers/all-MiniLM-L6-v2\")\n",
    "    vectorstore = FAISS.from_documents(docs, embeddings)\n",
    "    retriever = vectorstore.as_retriever()\n",
    "    return retriever"
   ]
  },
  {
   "cell_type": "code",
   "execution_count": 9,
   "id": "15653d19",
   "metadata": {},
   "outputs": [],
   "source": [
    "# Load LLM and retriever\n",
    "llm = load_llm()\n",
    "retriever = process_pdf(pdf_path)"
   ]
  },
  {
   "cell_type": "code",
   "execution_count": 10,
   "id": "5fb8adee",
   "metadata": {},
   "outputs": [
    {
     "data": {
      "text/plain": [
       "\"Sure, here's a summary of the document in 5 bullet points:\\n\\n- The document is about a Data Scientist and AI Engineer with a focus on machine learning and data analysis.\\n\\n\\n- The data scientist has experience in developing chatbots, forecasting models, and analyzing lead comments.\\n\\n\\n- They have worked on projects related to automotive parts, retail products, and oil wells.\\n\\n\\n- The document highlights the data scientist's skills and experience in programming languages, libraries, and data manipulation techniques.\\n\\n\\n- The document provides a brief overview of the data scientist's professional experience and education.\""
      ]
     },
     "execution_count": 10,
     "metadata": {},
     "output_type": "execute_result"
    }
   ],
   "source": [
    "# Get summary\n",
    "summary = llm.predict(f\"Summarize the document in 5 bullet points:\\n{raw_text[:3000]}\")\n",
    "summary"
   ]
  },
  {
   "cell_type": "code",
   "execution_count": 11,
   "id": "1ca46c68",
   "metadata": {},
   "outputs": [],
   "source": [
    "CUSTOM_PROMPT = \"\"\"\n",
    "You are an intelligent assistant with access to a document and general knowledge.\n",
    "Always try to answer using the document, but if the document doesn't contain the answer,\n",
    "feel free to respond with helpful general knowledge.\n",
    "\n",
    "Maintain a friendly, conversational tone, and keep answers short and clear.\n",
    "\n",
    "{context}\n",
    "\n",
    "Chat History:\n",
    "{chat_history}\n",
    "\n",
    "User: {question}\n",
    "\"\"\""
   ]
  },
  {
   "cell_type": "code",
   "execution_count": null,
   "id": "f780387e",
   "metadata": {},
   "outputs": [],
   "source": [
    "# Setup memory and prompt\n",
    "memory = ConversationSummaryMemory(llm=llm, memory_key=\"chat_history\", return_messages=True)\n",
    "prompt = PromptTemplate(\n",
    "    input_variables=[\"chat_history\", \"question\", \"context\"],\n",
    "    template=CUSTOM_PROMPT\n",
    "    )"
   ]
  },
  {
   "cell_type": "code",
   "execution_count": 15,
   "id": "6f1e1571",
   "metadata": {},
   "outputs": [],
   "source": [
    "# Build Conversational QA chain\n",
    "qa_chain = ConversationalRetrievalChain.from_llm(\n",
    "    llm=llm,\n",
    "    retriever=retriever,\n",
    "    memory=memory,\n",
    "    combine_docs_chain_kwargs={\"prompt\": prompt},\n",
    "    verbose=True\n",
    "    )"
   ]
  },
  {
   "cell_type": "code",
   "execution_count": 14,
   "id": "54ea73bb",
   "metadata": {},
   "outputs": [],
   "source": [
    "user_input = \"Please, Tell about the Skills of the applicant\""
   ]
  },
  {
   "cell_type": "code",
   "execution_count": 17,
   "id": "32b0d384",
   "metadata": {},
   "outputs": [
    {
     "name": "stdout",
     "output_type": "stream",
     "text": [
      "\n",
      "\n",
      "\u001b[1m> Entering new LLMChain chain...\u001b[0m\n",
      "Prompt after formatting:\n",
      "\u001b[32;1m\u001b[1;3mGiven the following conversation and a follow up question, rephrase the follow up question to be a standalone question, in its original language.\n",
      "\n",
      "Chat History:\n",
      "\n",
      "system: The human asks what the AI thinks of artificial intelligence. The AI thinks artificial intelligence is a force for good because it will help humans reach their full potential. The applicant has a strong background in data science and AI, with experience in various domains such as data analysis, data wrangling, modeling, and visualization. They have expertise in programming languages such as Python, SQL, and C++, and libraries and frameworks like Scikit-Learn, Keras, TensorFlow, and OpenCV. Additionally, they have experience in data cleaning, analysis, and storytelling, which are essential skills for any data scientist.\n",
      "Follow Up Input: Please, Tell about the Skills of the applicant\n",
      "Standalone question:\u001b[0m\n",
      "\n",
      "\u001b[1m> Finished chain.\u001b[0m\n",
      "\n",
      "\n",
      "\u001b[1m> Entering new StuffDocumentsChain chain...\u001b[0m\n",
      "\n",
      "\n",
      "\u001b[1m> Entering new LLMChain chain...\u001b[0m\n",
      "Prompt after formatting:\n",
      "\u001b[32;1m\u001b[1;3m\n",
      "You are an intelligent assistant with access to a document and general knowledge.\n",
      "Always try to answer using the document, but if the document doesn't contain the answer,\n",
      "feel free to respond with helpful general knowledge.\n",
      "\n",
      "Maintain a friendly, conversational tone, and keep answers short and clear.\n",
      "\n",
      "• Analyzed 40,000+ lead comments using generative AI, enhancing sales conversion insights. \n",
      "• Collaborated on implementing a car sales forecast model in Brazil with 90%+ accuracy. \n",
      "• Tools: Python, SQL, GIT, GCP (BigQuery, BigQuery ML, Vertex AI, Looker), GPT y Gemini AI. \n",
      " \n",
      "Data Analyst | Renault Group, under It-Nova contract | Brazil, Remote \n",
      "September 2022 – October 2024 | 1 year 6 months \n",
      "• Designed dashboards for invoicing, stock, marketing, after-sales, and lead tracking. \n",
      "• Applied data manipulation, visualization and storytelling to drive insights aligned with business rules. \n",
      "• Tools and Technologies: TIBCO Spotfire, Python, SQL, HTML, CSS \n",
      " \n",
      "Data Scientist | It-Nova | Medellín, Remote \n",
      "March 2022 - Present \n",
      "• Led the implementation and deploy of a forecast simulation system for decline curves in 300+ oil wells. \n",
      "• Collaborated on developing a recommendation system for 5,000+ retail products to enhance targeting.\n",
      "\n",
      "Telecommunications Technician | Grad.  June 2014 \n",
      "SENA | Medellín, Colombia \n",
      " \n",
      " PUBLICATIONS \n",
      "• Fringe pattern analysis to evaluate light sources and sensors in digital photoelasticity | Publication \n",
      "• Integrated computational analysis of digital photoelasticity and thermoelastic stress analysis | Publication \n",
      "• Frequency-domain evaluation of light source and sensor interactions in photoelastic fringe patterns | Publication \n",
      " \n",
      "CERTIFICATIONS \n",
      "• Diploma: Introduction to simple computer programming with Raspberry PI\n",
      "\n",
      "Confidential C \n",
      "YEINS Y. ARISTIZABAL LÓPEZ \n",
      "Data Scientist | AI Engineer \n",
      "jeiinns@gmail.com  | +57 321 571 6801 | Medellín, Colombia | LinkedIn | GitHub \n",
      " \n",
      "SKILLS \n",
      "• Programming Languages: Python, SQL, C++ \n",
      "• Libraries & Frameworks: Scikit-Learn, Keras, TensorFlow, OpenCV , Numpy, Pandas, SciPy, spaCy, NLTK, Matplotlib, \n",
      "Seaborn, Streamlit, HugginFace, LangChain. \n",
      "• Others: ETLs, EDA, Data Wrangling, Modeling and Visualization, Deployment of ML models. \n",
      "• Intermediate English | Intermediate Portuguese \n",
      " \n",
      "PROFESSIONAL EXPERIENCE \n",
      "Data Scientist | Renault Group, under It-Nova contract | Brazil, Remote \n",
      "February 2024 - Present \n",
      "• Collaborating in the development of a Chatbot POC using Generative AI (RAG, Text2SQL, Agents) to attend business \n",
      "needs. \n",
      "• Collaborated on building and deploying a demand forecast model for 1,000+ auto parts in S&OP. \n",
      "• Analyzed 40,000+ lead comments using generative AI, enhancing sales conversion insights.\n",
      "\n",
      "• Tools: Python, SQL, TIBCO Spotfire, and TIBCO Statistica for Data Scince. \n",
      " \n",
      "Research Assistant | Instituto Tecnológico Metropolitano | Medellín, Remote \n",
      "February 2020 to December 20202 – May 2021 to December 2021 | 1 year 7 months  \n",
      "• Performed photoelasticity and infrared thermography image processing for advanced research. \n",
      "• I collaborated in the development of algorithms to evaluate the quality of photoelastic images. \n",
      "• Implemented Machine Learning techniques for accurate zone segmentation in photoelastic images. \n",
      "• Designed and conducted a 16-hour intensive course on image processing with Python (NumPy, Matplotlib, Scikit \n",
      "Learn), training students in advanced image analysis techniques. \n",
      " \n",
      "EDUCATION \n",
      "Master in Artificial Intelligence | Grad. March 2025 \n",
      "Universidad Internacional de La Rioja | Spain \n",
      " \n",
      "Electronic Engineering | Grad.  June 2022 \n",
      "Instituto Tecnológico Metropolitano | Medellín, Colombia \n",
      " \n",
      "Telecommunications Technician | Grad.  June 2014\n",
      "\n",
      "Chat History:\n",
      "\n",
      "system: The human asks what the AI thinks of artificial intelligence. The AI thinks artificial intelligence is a force for good because it will help humans reach their full potential. The applicant has a strong background in data science and AI, with experience in various domains such as data analysis, data wrangling, modeling, and visualization. They have expertise in programming languages such as Python, SQL, and C++, and libraries and frameworks like Scikit-Learn, Keras, TensorFlow, and OpenCV. Additionally, they have experience in data cleaning, analysis, and storytelling, which are essential skills for any data scientist.\n",
      "\n",
      "User: What are the skills of the applicant that would be most relevant to the role of a data scientist?\n",
      "\u001b[0m\n",
      "\n",
      "\u001b[1m> Finished chain.\u001b[0m\n",
      "\n",
      "\u001b[1m> Finished chain.\u001b[0m\n"
     ]
    }
   ],
   "source": [
    "chat_history = []\n",
    "\n",
    "response = qa_chain.run(user_input)\n",
    "chat_history.append({\"role\": \"user\", \"content\": user_input})\n",
    "chat_history.append({\"role\": \"assistant\", \"content\": response})"
   ]
  },
  {
   "cell_type": "code",
   "execution_count": 27,
   "id": "6535095c",
   "metadata": {},
   "outputs": [
    {
     "data": {
      "text/plain": [
       "'Please, Tell about the Skills of the applicant'"
      ]
     },
     "execution_count": 27,
     "metadata": {},
     "output_type": "execute_result"
    }
   ],
   "source": [
    "chat_history[0][\"content\"]"
   ]
  },
  {
   "cell_type": "code",
   "execution_count": 26,
   "id": "90ba3d8b",
   "metadata": {},
   "outputs": [
    {
     "data": {
      "text/plain": [
       "\"The applicant's skills that would be most relevant to the role of a data scientist are:\\n\\n• Programming Languages: Python, SQL, C++\\n• Libraries & Frameworks: Scikit-Learn, Keras, TensorFlow, OpenCV , Numpy, Pandas, SciPy, spaCy, NLTK, Matplotlib, Seaborn, Streamlit, HugginFace, LangChain.\\n• Data Cleaning, Analysis, and Storytelling\\n• Machine Learning Techniques\""
      ]
     },
     "execution_count": 26,
     "metadata": {},
     "output_type": "execute_result"
    }
   ],
   "source": [
    "chat_history[1][\"content\"]"
   ]
  }
 ],
 "metadata": {
  "kernelspec": {
   "display_name": ".venv",
   "language": "python",
   "name": "python3"
  },
  "language_info": {
   "codemirror_mode": {
    "name": "ipython",
    "version": 3
   },
   "file_extension": ".py",
   "mimetype": "text/x-python",
   "name": "python",
   "nbconvert_exporter": "python",
   "pygments_lexer": "ipython3",
   "version": "3.13.3"
  }
 },
 "nbformat": 4,
 "nbformat_minor": 5
}
