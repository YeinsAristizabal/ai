{
 "cells": [
  {
   "cell_type": "code",
   "execution_count": null,
   "id": "1a2087d0",
   "metadata": {},
   "outputs": [],
   "source": [
    "\"\"\"\n",
    "┌──────────────────────────────┐          ┌──────────────────────────────┐\n",
    "│          Usuario             │          │    Respuesta generada en     │\n",
    "│ Sube un PDF y hace preguntas │          │      lenguaje natural        │\n",
    "└────────────┬─────────────────┘          └────────────▲─────────────────┘\n",
    "             │                                         │\n",
    "             ▼                                         │\n",
    "┌──────────────────────────────┐          ┌──────────────────────────────┐\n",
    "│          Streamlit           │          │  LangChain + Ollama (gemma)  │\n",
    "│ Interfaz web (UI/UX)         │          │  LLM local via Ollama        │\n",
    "└────────────┬────────────────┘           └────────────▲─────────────────┘\n",
    "             │                                         │\n",
    "             ▼                                         │\n",
    "┌──────────────────────────────┐          ┌──────────────────────────────┐\n",
    "│     Extracción de texto      │          │      Búsqueda y envío        │\n",
    "│    desde PDF (pdfplumber)    │          │     del contexto al LLM      │\n",
    "└────────────┬────────────────┘           └────────────▲─────────────────┘\n",
    "             │                                         │\n",
    "             ▼                                         │\n",
    "┌──────────────────────────────┐          ┌──────────────────────────────┐\n",
    "│  Generación de embeddings    │          │        Indexación semántica  │\n",
    "│ con HuggingFaceEmbeddings    │ ────►    │          usando FAISS        │\n",
    "└──────────────────────────────┘          └──────────────────────────────┘\n",
    "\n",
    "\"\"\""
   ]
  },
  {
   "cell_type": "code",
   "execution_count": 49,
   "id": "bb6ed4b8",
   "metadata": {},
   "outputs": [],
   "source": [
    "from langdetect import detect, DetectorFactory\n",
    "from langchain.chains import ConversationalRetrievalChain\n",
    "from langchain.memory import ConversationSummaryMemory\n",
    "from langchain.prompts import PromptTemplate\n",
    "from PyPDF2 import PdfReader\n",
    "\n",
    "from langchain_community.llms import Ollama\n",
    "from langchain.vectorstores import FAISS\n",
    "from langchain.embeddings import HuggingFaceEmbeddings\n",
    "from langchain.text_splitter import RecursiveCharacterTextSplitter\n",
    "from langchain.document_loaders import PyPDFLoader"
   ]
  },
  {
   "cell_type": "code",
   "execution_count": 50,
   "id": "2bebcf54",
   "metadata": {},
   "outputs": [],
   "source": [
    "# Step 1: Load & extract text\n",
    "pdf_path = \"..\\\\data\\\\La ciudad de Nuvora.pdf\"\n",
    "reader = PdfReader(pdf_path)\n",
    "raw_text = \"\\n\".join(page.extract_text() for page in reader.pages if page.extract_text())"
   ]
  },
  {
   "cell_type": "code",
   "execution_count": 51,
   "id": "efafc4ce",
   "metadata": {},
   "outputs": [
    {
     "data": {
      "text/plain": [
       "' La ciudad de Nuvora: una utopía tecnológica en el año 2147  \\nEn el año 2147, la ciudad flotante de Nuvora se convirtió en el primer asentamiento \\nhumano construido completamente sobre una plataforma aérea sustentada por energía \\ncuántica. Diseñada por el ingeniero aeroespacial Lin Mei -Han y el filósofo urbano Gabriel \\nLurentz, Nuvora fue concebida como un experimento sociotecnológico donde inteligencia \\nartificial, democracia directa y sostenibilidad conviven en equilibrio.  \\nLa ciudad no tiene gobierno central. Todas las decisiones se toman mediante votación \\nciudadana a través de un sistema llamado Círculo de Conciencia Colectiva  (CCC), el cual \\ncombina algoritmos de consenso con datos recogidos por sensores distribuidos en toda la \\nciudad. Este sistema predice consecuencias potenciales de cada decisión y presenta \\nsimulaciones interactivas antes de que los ciudadanos voten.  \\nLa economía de Nuvora es postmonetaria: en lugar de dinero, los ciudadanos \\nintercambian \"tiempo de dedicación\", una medida del esfuerzo socialmente útil que cada \\npersona aporta a la comunidad. Este tiempo se registra y transfiere a través de implantes \\nneuronales certificados, lo que elimina la necesidad de bancos, impuestos o contratos \\nlegales.  \\nEn Nuvora no existen cárceles. En su lugar, quienes cometen delitos deben participar en \\nprogramas de reintegración sensorial, en los cuales reviven emocionalmente las \\nconsecuencias de sus actos desde la perspectiva de las víctimas, gracias a tecnología de \\nrealidad inmersiva neuronal.  \\nEl éxito de Nuvora ha despertado debates en otras regiones del planeta, donde se discute \\nsi replicar su modelo podría resolver los problemas de las sociedades contemporáneas o \\nsi su aparente perfección encubre una forma más sofisticada de control social.  '"
      ]
     },
     "execution_count": 51,
     "metadata": {},
     "output_type": "execute_result"
    }
   ],
   "source": [
    "raw_text"
   ]
  },
  {
   "cell_type": "code",
   "execution_count": 52,
   "id": "78dd12e8",
   "metadata": {},
   "outputs": [
    {
     "data": {
      "text/plain": [
       "'es'"
      ]
     },
     "execution_count": 52,
     "metadata": {},
     "output_type": "execute_result"
    }
   ],
   "source": [
    "try:\n",
    "    detected_lang = detect(raw_text[:1000])\n",
    "except:\n",
    "    detected_lang = \"unknown\"\n",
    "language = detected_lang\n",
    "language"
   ]
  },
  {
   "cell_type": "code",
   "execution_count": 53,
   "id": "cc081289",
   "metadata": {},
   "outputs": [],
   "source": [
    "OLLAMA_MODEL = \"gemma:2b\"\n",
    "CHUNK_SIZE = 1000\n",
    "CHUNK_OVERLAP = 100\n",
    "NUM_TOP_DOCS = 3\n",
    "\n",
    "# Load local LLM\n",
    "def load_llm():\n",
    "    return Ollama(model=OLLAMA_MODEL, temperature=0.1)\n",
    "\n",
    "# Load PDF, split and embed\n",
    "def process_pdf(path):\n",
    "    loader = PyPDFLoader(path)\n",
    "    pages = loader.load()\n",
    "    splitter = RecursiveCharacterTextSplitter(chunk_size=CHUNK_SIZE, chunk_overlap=CHUNK_OVERLAP)\n",
    "    docs = splitter.split_documents(pages)\n",
    "\n",
    "    embeddings = HuggingFaceEmbeddings(model_name=\"sentence-transformers/all-MiniLM-L6-v2\")\n",
    "    vectorstore = FAISS.from_documents(docs, embeddings)\n",
    "    retriever = vectorstore.as_retriever()\n",
    "    return retriever"
   ]
  },
  {
   "cell_type": "code",
   "execution_count": 54,
   "id": "15653d19",
   "metadata": {},
   "outputs": [],
   "source": [
    "# Load LLM and retriever\n",
    "llm = load_llm()\n",
    "retriever = process_pdf(pdf_path)"
   ]
  },
  {
   "cell_type": "code",
   "execution_count": 55,
   "id": "5fb8adee",
   "metadata": {},
   "outputs": [
    {
     "data": {
      "text/plain": [
       "'1. La ciudad de Nuvora es un asentamiento humano construido sobre una plataforma aérea sustentada por energía cuántica.\\n\\n\\n2. La ciudad no tiene gobierno central y las decisiones se toman mediante votación ciudadana a través del Círculo de Conciencia Colectiva.\\n\\n\\n3. La economía de Nuvora es postmonetaria, en la que los ciudadanos intercambian \"tiempo de dedicación\" por \"tiempo de dedicación\".'"
      ]
     },
     "execution_count": 55,
     "metadata": {},
     "output_type": "execute_result"
    }
   ],
   "source": [
    "# Get summary\n",
    "summary = llm.predict(f\"Resuma el documento en 3 puntos:\\n{raw_text[:3000]}\")\n",
    "summary"
   ]
  },
  {
   "cell_type": "code",
   "execution_count": 56,
   "id": "1ca46c68",
   "metadata": {},
   "outputs": [],
   "source": [
    "CUSTOM_PROMPT = \"\"\"\n",
    "Eres un asistente inteligente con acceso a un documento y conocimientos generales.\n",
    "Intente siempre responder utilizando el documento, pero si éste no contiene la respuesta,\n",
    "no dude en responder con conocimientos generales útiles.\n",
    "\n",
    "Mantén un tono amistoso y conversacional, y que las respuestas sean breves y claras.\n",
    "Por favor responde en Español\n",
    "\n",
    "{context}\n",
    "\n",
    "Chat History:\n",
    "{chat_history}\n",
    "\n",
    "User: {question}\n",
    "\"\"\""
   ]
  },
  {
   "cell_type": "code",
   "execution_count": 58,
   "id": "f780387e",
   "metadata": {},
   "outputs": [],
   "source": [
    "# Setup memory and prompt\n",
    "chat_history = []\n",
    "memory = ConversationSummaryMemory(llm=llm, memory_key=\"chat_history\", return_messages=True)\n",
    "prompt = PromptTemplate(\n",
    "    input_variables=[\"chat_history\", \"question\", \"context\"],\n",
    "    template=CUSTOM_PROMPT\n",
    "    )"
   ]
  },
  {
   "cell_type": "code",
   "execution_count": 59,
   "id": "6f1e1571",
   "metadata": {},
   "outputs": [],
   "source": [
    "# Build Conversational QA chain\n",
    "qa_chain = ConversationalRetrievalChain.from_llm(\n",
    "    llm=llm,\n",
    "    retriever=retriever,\n",
    "    memory=memory,\n",
    "    combine_docs_chain_kwargs={\"prompt\": prompt},\n",
    "    verbose=False\n",
    "    )"
   ]
  },
  {
   "cell_type": "code",
   "execution_count": 61,
   "id": "54ea73bb",
   "metadata": {},
   "outputs": [
    {
     "name": "stdout",
     "output_type": "stream",
     "text": [
      "{'question': '¿Qué usan los ciudadanos de Nuvora en lugar de dinero?', 'chat_history': [SystemMessage(content='The human asks what the AI thinks of artificial intelligence. The AI thinks artificial intelligence is a force for good because it will help humans reach their full potential.', additional_kwargs={}, response_metadata={})], 'answer': 'Los ciudadanos de Nuvora intercambian \"tiempo de dedicación\" para registrar y transfierir el esfuerzo socialmente útil que cada persona aporta a la comunidad.'}\n"
     ]
    }
   ],
   "source": [
    "user_input = \"¿Qué usan los ciudadanos de Nuvora en lugar de dinero?\"\n",
    "response = qa_chain.invoke(user_input)\n",
    "print(response)"
   ]
  },
  {
   "cell_type": "code",
   "execution_count": null,
   "id": "08489d58",
   "metadata": {},
   "outputs": [],
   "source": [
    "\"\"\" ¿En qué año fue construida la ciudad de Nuvora?\n",
    "    ¿Quiénes diseñaron la ciudad de Nuvora?\n",
    "    ¿Qué usan los ciudadanos de Nuvora en lugar de dinero?\n",
    "    ¿Qué hacen con las personas que cometen delitos en Nuvora?\n",
    "    ¿La cidudad tiene govierno central?\n",
    "\"\"\""
   ]
  }
 ],
 "metadata": {
  "kernelspec": {
   "display_name": ".venv",
   "language": "python",
   "name": "python3"
  },
  "language_info": {
   "codemirror_mode": {
    "name": "ipython",
    "version": 3
   },
   "file_extension": ".py",
   "mimetype": "text/x-python",
   "name": "python",
   "nbconvert_exporter": "python",
   "pygments_lexer": "ipython3",
   "version": "3.13.3"
  }
 },
 "nbformat": 4,
 "nbformat_minor": 5
}
